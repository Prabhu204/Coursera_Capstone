{
 "cells": [
  {
   "cell_type": "markdown",
   "metadata": {},
   "source": [
    " # 1. Introduction and Defining Business Problem:\n",
    "\n",
    "\n",
    "\n",
    "## Problem Statement: Prospects for opening a food Restaurant or a new office in Berlin.\n",
    "\n",
    "Berlin, It is a place where I am staying right now. In terms of population and area, Berlin is a largerst city and capital for Germany. Berlin is a second famous startup hub in Europe.\n",
    "\n",
    "During the daytime, specially in the lunch hours, office areas provide huge opportunities for restaurants.  An avarage meal priced (one lunch meal 5€). The shops are usually always full during the lunch hours (11 am — 2-30 pm. Given this scenario, I will be showing the benefits and pitfalls of opening a restaurant in highly densed office places including office delivery. However, I am unware of the profit, I do believe there will be huge benifit by opening a restaurent in the dence area of companies. I will be covering top 10 places in Berlin.\n",
    "\n",
    "Aditionally, understaing the type of companies that are located in Berlin will give a valuable information for opening a new office. Namely,finding an area relatively less costly area for opening an office and public transportation analysis to reach this company.\n",
    "\n",
    "\n",
    "As a part of report, I will walk you thorogh each step of this project and address them separately. Let me, show you an outline the initial data preparation and describe future steps to start the battle of neighborhoods in Berlin area."
   ]
  },
  {
   "cell_type": "markdown",
   "metadata": {},
   "source": [
    "### Target Audience\n",
    "\n",
    "#### What type of clients or a group of people would be interested in this project?\n",
    "\n",
    "    1.For data scientists, who wnats to do exploratory data analysis techniques to obtain necessary data, analyze it, and, finally be able to tell a story out of it.\n",
    "    2.Business personnel who wants to invest or open a restaurant. This analysis will be a comprehensive guide to start or expand restaurants targeting the large pool of office places during lunch hours.\n",
    "    3. Furthermore, the analysis of company locations in Berlin will hugly benifit the business personnel for opening their new office."
   ]
  },
  {
   "cell_type": "markdown",
   "metadata": {},
   "source": [
    "# 1. Preprocessing data for Berlin companies list"
   ]
  },
  {
   "cell_type": "code",
   "execution_count": 1,
   "metadata": {},
   "outputs": [],
   "source": [
    "import wikipedia\n",
    "from bs4 import BeautifulSoup\n",
    "import pandas as pd\n",
    "import numpy as np\n",
    "import unicodedata\n",
    "import requests\n",
    "import json"
   ]
  },
  {
   "cell_type": "markdown",
   "metadata": {},
   "source": [
    "### Extract Berlin neighborhoods and boroughs from wiki using BeautifulSoup"
   ]
  },
  {
   "cell_type": "markdown",
   "metadata": {},
   "source": [
    "#### If like to scrape the data, run the following blocke of code."
   ]
  },
  {
   "cell_type": "markdown",
   "metadata": {
    "scrolled": false
   },
   "source": [
    "```python\n",
    "wiki_page = \"https://de.wikipedia.org/wiki/Verwaltungsgliederung_Berlins\"\n",
    "\n",
    "html_ = requests.get(wiki_page)\n",
    "soup = BeautifulSoup(html_.content, \"html.parser\")\n",
    "table = soup.find_all(\"table\")\n",
    "data_table = table[2]\n",
    "\n",
    "data_nei_ = []\n",
    "columns = [\"Nr\",\"Ortteil\",\"Bezirk\",\"Flaeche\",\"Einwohner_30_07_2019\",\"Einwohner_km2\"] \n",
    "\n",
    "for tr in data_table.find_all(\"tr\")[1:]:\n",
    "    data = []\n",
    "    for td in tr.find_all(\"td\"):\n",
    "        data.append(td.get_text().strip())\n",
    "    data_nei_.append(data)\n",
    "data_nei_\n",
    "df_nei = pd.DataFrame(data_nei_, columns=columns)\n",
    "df_nei\n",
    "```"
   ]
  },
  {
   "cell_type": "markdown",
   "metadata": {},
   "source": [
    "### Step1: Load dataset having district and its neighborhoods"
   ]
  },
  {
   "cell_type": "code",
   "execution_count": 83,
   "metadata": {},
   "outputs": [
    {
     "data": {
      "text/html": [
       "<div>\n",
       "<style scoped>\n",
       "    .dataframe tbody tr th:only-of-type {\n",
       "        vertical-align: middle;\n",
       "    }\n",
       "\n",
       "    .dataframe tbody tr th {\n",
       "        vertical-align: top;\n",
       "    }\n",
       "\n",
       "    .dataframe thead th {\n",
       "        text-align: right;\n",
       "    }\n",
       "</style>\n",
       "<table border=\"1\" class=\"dataframe\">\n",
       "  <thead>\n",
       "    <tr style=\"text-align: right;\">\n",
       "      <th></th>\n",
       "      <th>Ortsteil</th>\n",
       "      <th>Bezirk</th>\n",
       "    </tr>\n",
       "  </thead>\n",
       "  <tbody>\n",
       "    <tr>\n",
       "      <th>0</th>\n",
       "      <td>Mitte</td>\n",
       "      <td>Mitte</td>\n",
       "    </tr>\n",
       "    <tr>\n",
       "      <th>1</th>\n",
       "      <td>Moabit</td>\n",
       "      <td>Mitte</td>\n",
       "    </tr>\n",
       "    <tr>\n",
       "      <th>2</th>\n",
       "      <td>Hansaviertel</td>\n",
       "      <td>Mitte</td>\n",
       "    </tr>\n",
       "    <tr>\n",
       "      <th>3</th>\n",
       "      <td>Tiergarten</td>\n",
       "      <td>Mitte</td>\n",
       "    </tr>\n",
       "    <tr>\n",
       "      <th>4</th>\n",
       "      <td>Wedding</td>\n",
       "      <td>Mitte</td>\n",
       "    </tr>\n",
       "  </tbody>\n",
       "</table>\n",
       "</div>"
      ],
      "text/plain": [
       "        Ortsteil  Bezirk\n",
       "0         Mitte   Mitte \n",
       "1        Moabit   Mitte \n",
       "2  Hansaviertel   Mitte \n",
       "3    Tiergarten   Mitte \n",
       "4       Wedding   Mitte "
      ]
     },
     "execution_count": 83,
     "metadata": {},
     "output_type": "execute_result"
    }
   ],
   "source": [
    "berlin_neighborhoods = pd.read_csv(\"berlin_places.csv\")\n",
    "berlin_neighborhoods = berlin_neighborhoods[[\"Ortsteil\",\"Bezirk\"]]\n",
    "berlin_neighborhoods.head()"
   ]
  },
  {
   "cell_type": "markdown",
   "metadata": {},
   "source": [
    "### Step2: Load the daset having neighborhood and its postal codes"
   ]
  },
  {
   "cell_type": "code",
   "execution_count": 95,
   "metadata": {
    "scrolled": true
   },
   "outputs": [
    {
     "data": {
      "text/html": [
       "<div>\n",
       "<style scoped>\n",
       "    .dataframe tbody tr th:only-of-type {\n",
       "        vertical-align: middle;\n",
       "    }\n",
       "\n",
       "    .dataframe tbody tr th {\n",
       "        vertical-align: top;\n",
       "    }\n",
       "\n",
       "    .dataframe thead th {\n",
       "        text-align: right;\n",
       "    }\n",
       "</style>\n",
       "<table border=\"1\" class=\"dataframe\">\n",
       "  <thead>\n",
       "    <tr style=\"text-align: right;\">\n",
       "      <th></th>\n",
       "      <th>PLZ</th>\n",
       "      <th>Ortsteil</th>\n",
       "    </tr>\n",
       "  </thead>\n",
       "  <tbody>\n",
       "    <tr>\n",
       "      <th>241</th>\n",
       "      <td>13347</td>\n",
       "      <td>Wedding</td>\n",
       "    </tr>\n",
       "    <tr>\n",
       "      <th>243</th>\n",
       "      <td>13349</td>\n",
       "      <td>Wedding</td>\n",
       "    </tr>\n",
       "    <tr>\n",
       "      <th>244</th>\n",
       "      <td>13351</td>\n",
       "      <td>Wedding</td>\n",
       "    </tr>\n",
       "    <tr>\n",
       "      <th>246</th>\n",
       "      <td>13353</td>\n",
       "      <td>Wedding</td>\n",
       "    </tr>\n",
       "    <tr>\n",
       "      <th>249</th>\n",
       "      <td>13357</td>\n",
       "      <td>Wedding</td>\n",
       "    </tr>\n",
       "    <tr>\n",
       "      <th>251</th>\n",
       "      <td>13359</td>\n",
       "      <td>Wedding</td>\n",
       "    </tr>\n",
       "    <tr>\n",
       "      <th>256</th>\n",
       "      <td>13405</td>\n",
       "      <td>Wedding</td>\n",
       "    </tr>\n",
       "    <tr>\n",
       "      <th>259</th>\n",
       "      <td>13407</td>\n",
       "      <td>Wedding</td>\n",
       "    </tr>\n",
       "    <tr>\n",
       "      <th>262</th>\n",
       "      <td>13409</td>\n",
       "      <td>Wedding</td>\n",
       "    </tr>\n",
       "  </tbody>\n",
       "</table>\n",
       "</div>"
      ],
      "text/plain": [
       "       PLZ Ortsteil\n",
       "241  13347  Wedding\n",
       "243  13349  Wedding\n",
       "244  13351  Wedding\n",
       "246  13353  Wedding\n",
       "249  13357  Wedding\n",
       "251  13359  Wedding\n",
       "256  13405  Wedding\n",
       "259  13407  Wedding\n",
       "262  13409  Wedding"
      ]
     },
     "execution_count": 95,
     "metadata": {},
     "output_type": "execute_result"
    }
   ],
   "source": [
    "berlin_postacodes = pd.read_excel(\"Bundesland Berlin.xlsx\")\n",
    "berlin_postacodes[berlin_postacodes.Ortsteil==\"Wedding\"]"
   ]
  },
  {
   "cell_type": "markdown",
   "metadata": {},
   "source": [
    "### Step3: Load the dataset having company and its address, category of comapny, gps coordinates. "
   ]
  },
  {
   "cell_type": "markdown",
   "metadata": {},
   "source": [
    "###### Scraping of such data is still in progress and will be updated soon..........."
   ]
  },
  {
   "cell_type": "code",
   "execution_count": null,
   "metadata": {},
   "outputs": [],
   "source": []
  }
 ],
 "metadata": {
  "kernelspec": {
   "display_name": "Python 3",
   "language": "python",
   "name": "python3"
  },
  "language_info": {
   "codemirror_mode": {
    "name": "ipython",
    "version": 3
   },
   "file_extension": ".py",
   "mimetype": "text/x-python",
   "name": "python",
   "nbconvert_exporter": "python",
   "pygments_lexer": "ipython3",
   "version": "3.7.5"
  }
 },
 "nbformat": 4,
 "nbformat_minor": 2
}
