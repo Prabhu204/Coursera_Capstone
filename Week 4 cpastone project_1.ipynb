{
 "cells": [
  {
   "cell_type": "markdown",
   "metadata": {},
   "source": [
    " # 1. Introduction and Defining Business Problem:\n",
    "\n",
    "Berlin, It is a place where I am staying right now. In terms of population and area, Berlin is the largest city and capital for Germany. Berlin is the second famous startup hub in Europe.\n",
    "\n",
    "## Problem Statement: Prospects for opening a food Restaurant or a new office in Berlin.\n",
    "\n",
    "During the daytime, especially during lunch hours, office areas provide huge opportunities for restaurants.  An average meal priced (one lunch meal 5€). The shops are usually always full during lunch hours (11 am — 2-30 pm. Given this scenario, I will be showing the benefits and pitfalls of opening a restaurant in highly dense office places including office delivery. However, I am unaware of the profit, I do believe there will be huge benefits by opening a restaurant in the dense area of companies. I will be covering the top 10 places in Berlin.\n",
    "\n",
    "Additionally, by understanding the type of companies that are located in each area will result in valuable information for opening a new office. Such as finding an area relatively less cost for opening an office and public transportation analysis to reach this company."
   ]
  },
  {
   "cell_type": "markdown",
   "metadata": {},
   "source": [
    "## Description of the data and solving the problems\n",
    "\n",
    "To solve the above problems, a location-based dataset is important. However, neighther it is not available directly in internet nor from the Foursquare website. Hence, I decided to scrape the required data. \n",
    "\n",
    "There are 2 datasets:\n",
    "    \n",
    "    Company-related data with following columns:\n",
    "        1. Company name: In Germany, a company is characterized as mbH, GmbH, AG, AG &Co.\n",
    "        2. Address: It is composed of a street name, GPS coordinates, zip code, neighborhood\n",
    "        3. Category: It is a type of company i.e software company, construction company e.t.c\n",
    "\n",
    "    Berlin geographical dataset is composed with the following columns:\n",
    "        1. Zip code\n",
    "        2. Neighborhood\n",
    "        3. District\n",
    "\n",
    "\n",
    "\n",
    "### To solve above problems the following questions needed to answer.\n",
    "\n",
    "\n",
    "    1. How many companies are located in each area? (i.e per zip code)\n",
    "    2. Which type of shops are located near to each company? (i.e with the help GPS coordinates of a company). This particular question will be answered through Foursquare data.\n",
    "    3. How similar each company in terms of its services?\n",
    "    4. Possible public transportation services to reach the company?\n",
    "    5. How far the residential area is located? \n",
    "    6. What are the average rental prices for a given area? By analyzing clusters of companys that are located for an area. (i.e This question will be answered if the data relevant data is available else will be skipped.)  \n",
    "\n",
    "\n",
    "As a part of the report, I will walk you through each step of this project and address them separately. These answeres will justify a better place to open a restaurant or to open an office for my stakeholders. \n",
    "\n",
    "Let me, show you an outline of the initial data preparation. \n",
    "\n"
   ]
  },
  {
   "cell_type": "markdown",
   "metadata": {},
   "source": [
    "### Target Audience\n",
    "\n",
    "#### What type of clients or a group of people would be interested in this project?\n",
    "\n",
    "    1.For data scientists, who wnats to do exploratory data analysis techniques to obtain necessary data, analyze it, and, finally be able to tell a story out of it.\n",
    "    2.Business personnel who wants to invest or open a restaurant. This analysis will be a comprehensive guide to start or expand restaurants targeting the large pool of office places during lunch hours.\n",
    "    3. Furthermore, the analysis of company locations in Berlin will hugly benifit the business personnel for opening their new office."
   ]
  },
  {
   "cell_type": "markdown",
   "metadata": {},
   "source": []
  },
  {
   "cell_type": "markdown",
   "metadata": {},
   "source": [
    "# 2. Preprocessing the dataset  having companies list, postal codes and neighborhoods in Berlin"
   ]
  },
  {
   "cell_type": "code",
   "execution_count": 1,
   "metadata": {},
   "outputs": [],
   "source": [
    "import wikipedia\n",
    "from bs4 import BeautifulSoup\n",
    "import pandas as pd\n",
    "import numpy as np\n",
    "import unicodedata\n",
    "import requests\n",
    "import json"
   ]
  },
  {
   "cell_type": "markdown",
   "metadata": {},
   "source": [
    "### Extract Berlin neighborhoods and boroughs from wiki using BeautifulSoup"
   ]
  },
  {
   "cell_type": "markdown",
   "metadata": {},
   "source": [
    "#### If like to scrape the data, run the following blocke of code."
   ]
  },
  {
   "cell_type": "markdown",
   "metadata": {
    "scrolled": false
   },
   "source": [
    "```python\n",
    "wiki_page = \"https://de.wikipedia.org/wiki/Verwaltungsgliederung_Berlins\"\n",
    "\n",
    "html_ = requests.get(wiki_page)\n",
    "soup = BeautifulSoup(html_.content, \"html.parser\")\n",
    "table = soup.find_all(\"table\")\n",
    "data_table = table[2]\n",
    "\n",
    "data_nei_ = []\n",
    "columns = [\"Nr\",\"Ortteil\",\"Bezirk\",\"Flaeche\",\"Einwohner_30_07_2019\",\"Einwohner_km2\"] \n",
    "\n",
    "for tr in data_table.find_all(\"tr\")[1:]:\n",
    "    data = []\n",
    "    for td in tr.find_all(\"td\"):\n",
    "        data.append(td.get_text().strip())\n",
    "    data_nei_.append(data)\n",
    "data_nei_\n",
    "df_nei = pd.DataFrame(data_nei_, columns=columns)\n",
    "df_nei\n",
    "```"
   ]
  },
  {
   "cell_type": "markdown",
   "metadata": {},
   "source": [
    "### Step1: Load dataset having district and its neighborhoods"
   ]
  },
  {
   "cell_type": "code",
   "execution_count": 100,
   "metadata": {},
   "outputs": [
    {
     "data": {
      "text/html": [
       "<div>\n",
       "<style scoped>\n",
       "    .dataframe tbody tr th:only-of-type {\n",
       "        vertical-align: middle;\n",
       "    }\n",
       "\n",
       "    .dataframe tbody tr th {\n",
       "        vertical-align: top;\n",
       "    }\n",
       "\n",
       "    .dataframe thead th {\n",
       "        text-align: right;\n",
       "    }\n",
       "</style>\n",
       "<table border=\"1\" class=\"dataframe\">\n",
       "  <thead>\n",
       "    <tr style=\"text-align: right;\">\n",
       "      <th></th>\n",
       "      <th>Ortsteil</th>\n",
       "      <th>Bezirk</th>\n",
       "    </tr>\n",
       "  </thead>\n",
       "  <tbody>\n",
       "    <tr>\n",
       "      <th>0</th>\n",
       "      <td>Mitte</td>\n",
       "      <td>Mitte</td>\n",
       "    </tr>\n",
       "    <tr>\n",
       "      <th>1</th>\n",
       "      <td>Moabit</td>\n",
       "      <td>Mitte</td>\n",
       "    </tr>\n",
       "    <tr>\n",
       "      <th>2</th>\n",
       "      <td>Hansaviertel</td>\n",
       "      <td>Mitte</td>\n",
       "    </tr>\n",
       "    <tr>\n",
       "      <th>3</th>\n",
       "      <td>Tiergarten</td>\n",
       "      <td>Mitte</td>\n",
       "    </tr>\n",
       "    <tr>\n",
       "      <th>4</th>\n",
       "      <td>Wedding</td>\n",
       "      <td>Mitte</td>\n",
       "    </tr>\n",
       "  </tbody>\n",
       "</table>\n",
       "</div>"
      ],
      "text/plain": [
       "        Ortsteil  Bezirk\n",
       "0         Mitte   Mitte \n",
       "1        Moabit   Mitte \n",
       "2  Hansaviertel   Mitte \n",
       "3    Tiergarten   Mitte \n",
       "4       Wedding   Mitte "
      ]
     },
     "execution_count": 100,
     "metadata": {},
     "output_type": "execute_result"
    }
   ],
   "source": [
    "berlin_neighborhoods = pd.read_csv(\"data/berlin_places.csv\")\n",
    "berlin_neighborhoods = berlin_neighborhoods[[\"Ortsteil\",\"Bezirk\"]]\n",
    "berlin_neighborhoods.head()"
   ]
  },
  {
   "cell_type": "markdown",
   "metadata": {},
   "source": [
    "### Step2: Load the daset having neighborhood and its postal codes"
   ]
  },
  {
   "cell_type": "code",
   "execution_count": 96,
   "metadata": {
    "scrolled": true
   },
   "outputs": [
    {
     "data": {
      "text/html": [
       "<div>\n",
       "<style scoped>\n",
       "    .dataframe tbody tr th:only-of-type {\n",
       "        vertical-align: middle;\n",
       "    }\n",
       "\n",
       "    .dataframe tbody tr th {\n",
       "        vertical-align: top;\n",
       "    }\n",
       "\n",
       "    .dataframe thead th {\n",
       "        text-align: right;\n",
       "    }\n",
       "</style>\n",
       "<table border=\"1\" class=\"dataframe\">\n",
       "  <thead>\n",
       "    <tr style=\"text-align: right;\">\n",
       "      <th></th>\n",
       "      <th>PLZ</th>\n",
       "      <th>Ortsteil</th>\n",
       "    </tr>\n",
       "  </thead>\n",
       "  <tbody>\n",
       "    <tr>\n",
       "      <th>241</th>\n",
       "      <td>13347</td>\n",
       "      <td>Wedding</td>\n",
       "    </tr>\n",
       "    <tr>\n",
       "      <th>243</th>\n",
       "      <td>13349</td>\n",
       "      <td>Wedding</td>\n",
       "    </tr>\n",
       "    <tr>\n",
       "      <th>244</th>\n",
       "      <td>13351</td>\n",
       "      <td>Wedding</td>\n",
       "    </tr>\n",
       "    <tr>\n",
       "      <th>246</th>\n",
       "      <td>13353</td>\n",
       "      <td>Wedding</td>\n",
       "    </tr>\n",
       "    <tr>\n",
       "      <th>249</th>\n",
       "      <td>13357</td>\n",
       "      <td>Wedding</td>\n",
       "    </tr>\n",
       "    <tr>\n",
       "      <th>251</th>\n",
       "      <td>13359</td>\n",
       "      <td>Wedding</td>\n",
       "    </tr>\n",
       "    <tr>\n",
       "      <th>256</th>\n",
       "      <td>13405</td>\n",
       "      <td>Wedding</td>\n",
       "    </tr>\n",
       "    <tr>\n",
       "      <th>259</th>\n",
       "      <td>13407</td>\n",
       "      <td>Wedding</td>\n",
       "    </tr>\n",
       "    <tr>\n",
       "      <th>262</th>\n",
       "      <td>13409</td>\n",
       "      <td>Wedding</td>\n",
       "    </tr>\n",
       "  </tbody>\n",
       "</table>\n",
       "</div>"
      ],
      "text/plain": [
       "       PLZ Ortsteil\n",
       "241  13347  Wedding\n",
       "243  13349  Wedding\n",
       "244  13351  Wedding\n",
       "246  13353  Wedding\n",
       "249  13357  Wedding\n",
       "251  13359  Wedding\n",
       "256  13405  Wedding\n",
       "259  13407  Wedding\n",
       "262  13409  Wedding"
      ]
     },
     "execution_count": 96,
     "metadata": {},
     "output_type": "execute_result"
    }
   ],
   "source": [
    "berlin_postacodes = pd.read_excel(\"data/Bundesland Berlin.xlsx\")\n",
    "berlin_postacodes[berlin_postacodes.Ortsteil==\"Wedding\"]"
   ]
  },
  {
   "cell_type": "markdown",
   "metadata": {},
   "source": [
    "### Step3: Load the dataset having company and its address, category of comapny, gps coordinates. "
   ]
  },
  {
   "cell_type": "markdown",
   "metadata": {},
   "source": [
    "###### Scraping of such data is still in progress and will be updated soon..........."
   ]
  },
  {
   "cell_type": "code",
   "execution_count": 289,
   "metadata": {},
   "outputs": [],
   "source": [
    "profiles = pd.read_csv(\"data/company_profile.csv\")\n",
    "profiles = profiles[[\"url\",\"location\",\"info\"]]\n",
    "profiles['location'] = profiles['location'].apply(lambda x: \"{:.3f}\".format(x) if not pd.isnull(x) else x)"
   ]
  },
  {
   "cell_type": "code",
   "execution_count": 290,
   "metadata": {},
   "outputs": [],
   "source": [
    "profiles['location'] = profiles['location'].astype(str)\n",
    "profiles['info'] = profiles['info'].astype(str)\n",
    "cleaned_profiles = profiles.groupby([\"url\"])[\"info\"].agg([('info', ','.join)])\n",
    "cleaned_location = profiles.groupby([\"url\"])[\"location\"].agg([('location', ','.join)])\n",
    "cleaned_profiles[\"profile\"] = cleaned_profiles[\"info\"]+ \",\" +cleaned_location[\"location\"]"
   ]
  },
  {
   "cell_type": "code",
   "execution_count": 291,
   "metadata": {},
   "outputs": [
    {
     "data": {
      "text/html": [
       "<div>\n",
       "<style scoped>\n",
       "    .dataframe tbody tr th:only-of-type {\n",
       "        vertical-align: middle;\n",
       "    }\n",
       "\n",
       "    .dataframe tbody tr th {\n",
       "        vertical-align: top;\n",
       "    }\n",
       "\n",
       "    .dataframe thead th {\n",
       "        text-align: right;\n",
       "    }\n",
       "</style>\n",
       "<table border=\"1\" class=\"dataframe\">\n",
       "  <thead>\n",
       "    <tr style=\"text-align: right;\">\n",
       "      <th></th>\n",
       "      <th>info</th>\n",
       "      <th>profile</th>\n",
       "    </tr>\n",
       "    <tr>\n",
       "      <th>url</th>\n",
       "      <th></th>\n",
       "      <th></th>\n",
       "    </tr>\n",
       "  </thead>\n",
       "  <tbody>\n",
       "    <tr>\n",
       "      <th>(KA) Kraft Automobile GmbH</th>\n",
       "      <td>nan,nan,(KA) Kraft Automobile GmbH,Wexstrasse ...</td>\n",
       "      <td>[(KA) Kraft Automobile GmbH, Wexstrasse 15, 10...</td>\n",
       "    </tr>\n",
       "    <tr>\n",
       "      <th>(know:bodies) gesellschaft für integrierte kommunikation und bildungsberatung mbh</th>\n",
       "      <td>nan,nan,(know:bodies) gesellschaft für integri...</td>\n",
       "      <td>[(know:bodies) gesellschaft für integrierte ko...</td>\n",
       "    </tr>\n",
       "    <tr>\n",
       "      <th>07schanksysteme gmbh</th>\n",
       "      <td>nan,nan,07schanksysteme gmbh,Sprengelstrasse 1...</td>\n",
       "      <td>[07schanksysteme gmbh, Sprengelstrasse 15, 133...</td>\n",
       "    </tr>\n",
       "    <tr>\n",
       "      <th>1 Berlin x Hausverwaltung GmbH + Co. KG</th>\n",
       "      <td>1 Berlin x Hausverwaltung GmbH + Co. KG,Königi...</td>\n",
       "      <td>[1 Berlin x Hausverwaltung GmbH + Co. KG, Köni...</td>\n",
       "    </tr>\n",
       "    <tr>\n",
       "      <th>1 Berlin x Recon GmbH + Co. KG</th>\n",
       "      <td>1 Berlin x Recon GmbH + Co. KG,Königin-Luise-S...</td>\n",
       "      <td>[1 Berlin x Recon GmbH + Co. KG, Königin-Luise...</td>\n",
       "    </tr>\n",
       "  </tbody>\n",
       "</table>\n",
       "</div>"
      ],
      "text/plain": [
       "                                                                                                 info  \\\n",
       "url                                                                                                     \n",
       "(KA) Kraft Automobile GmbH                          nan,nan,(KA) Kraft Automobile GmbH,Wexstrasse ...   \n",
       "(know:bodies) gesellschaft für integrierte komm...  nan,nan,(know:bodies) gesellschaft für integri...   \n",
       "07schanksysteme gmbh                                nan,nan,07schanksysteme gmbh,Sprengelstrasse 1...   \n",
       "1 Berlin x Hausverwaltung GmbH + Co. KG             1 Berlin x Hausverwaltung GmbH + Co. KG,Königi...   \n",
       "1 Berlin x Recon GmbH + Co. KG                      1 Berlin x Recon GmbH + Co. KG,Königin-Luise-S...   \n",
       "\n",
       "                                                                                              profile  \n",
       "url                                                                                                    \n",
       "(KA) Kraft Automobile GmbH                          [(KA) Kraft Automobile GmbH, Wexstrasse 15, 10...  \n",
       "(know:bodies) gesellschaft für integrierte komm...  [(know:bodies) gesellschaft für integrierte ko...  \n",
       "07schanksysteme gmbh                                [07schanksysteme gmbh, Sprengelstrasse 15, 133...  \n",
       "1 Berlin x Hausverwaltung GmbH + Co. KG             [1 Berlin x Hausverwaltung GmbH + Co. KG, Köni...  \n",
       "1 Berlin x Recon GmbH + Co. KG                      [1 Berlin x Recon GmbH + Co. KG, Königin-Luise...  "
      ]
     },
     "execution_count": 291,
     "metadata": {},
     "output_type": "execute_result"
    }
   ],
   "source": [
    "def correct(x):\n",
    "    cleaned_str = []\n",
    "    for i in x.split(\",\"):\n",
    "        if i != 'nan':\n",
    "            cleaned_str.append(i)\n",
    "    return cleaned_str\n",
    "\n",
    "cleaned_profiles[\"profile\"] = cleaned_profiles.profile.apply(lambda x: correct(x))\n",
    "cleaned_profiles.head()"
   ]
  },
  {
   "cell_type": "code",
   "execution_count": 295,
   "metadata": {},
   "outputs": [
    {
     "name": "stdout",
     "output_type": "stream",
     "text": [
      "Shape of data:  (4230, 6)\n"
     ]
    },
    {
     "data": {
      "text/html": [
       "<div>\n",
       "<style scoped>\n",
       "    .dataframe tbody tr th:only-of-type {\n",
       "        vertical-align: middle;\n",
       "    }\n",
       "\n",
       "    .dataframe tbody tr th {\n",
       "        vertical-align: top;\n",
       "    }\n",
       "\n",
       "    .dataframe thead th {\n",
       "        text-align: right;\n",
       "    }\n",
       "</style>\n",
       "<table border=\"1\" class=\"dataframe\">\n",
       "  <thead>\n",
       "    <tr style=\"text-align: right;\">\n",
       "      <th></th>\n",
       "      <th>Name</th>\n",
       "      <th>Street</th>\n",
       "      <th>Zipcode</th>\n",
       "      <th>City</th>\n",
       "      <th>Lat</th>\n",
       "      <th>Lan</th>\n",
       "    </tr>\n",
       "  </thead>\n",
       "  <tbody>\n",
       "    <tr>\n",
       "      <th>3</th>\n",
       "      <td>1 Berlin x Hausverwaltung GmbH + Co. KG</td>\n",
       "      <td>Königin-Luise-Strasse 43</td>\n",
       "      <td>14195</td>\n",
       "      <td>Berlin</td>\n",
       "      <td>None</td>\n",
       "      <td>None</td>\n",
       "    </tr>\n",
       "    <tr>\n",
       "      <th>4</th>\n",
       "      <td>1 Berlin x Recon GmbH + Co. KG</td>\n",
       "      <td>Königin-Luise-Strasse 43</td>\n",
       "      <td>14195</td>\n",
       "      <td>Berlin</td>\n",
       "      <td>None</td>\n",
       "      <td>None</td>\n",
       "    </tr>\n",
       "    <tr>\n",
       "      <th>5</th>\n",
       "      <td>1 Berlin x Recon Holding GmbH</td>\n",
       "      <td>Königin-Luise-Strasse 43</td>\n",
       "      <td>14195</td>\n",
       "      <td>Berlin</td>\n",
       "      <td>None</td>\n",
       "      <td>None</td>\n",
       "    </tr>\n",
       "    <tr>\n",
       "      <th>12</th>\n",
       "      <td>2 + 1 Global Projects GmbH</td>\n",
       "      <td>Chausseetrasse 14</td>\n",
       "      <td>10115</td>\n",
       "      <td>Berlin</td>\n",
       "      <td>None</td>\n",
       "      <td>None</td>\n",
       "    </tr>\n",
       "    <tr>\n",
       "      <th>23</th>\n",
       "      <td>4initia GmbH</td>\n",
       "      <td>Söhtstrasse 6 a</td>\n",
       "      <td>12203</td>\n",
       "      <td>Berlin</td>\n",
       "      <td>None</td>\n",
       "      <td>None</td>\n",
       "    </tr>\n",
       "  </tbody>\n",
       "</table>\n",
       "</div>"
      ],
      "text/plain": [
       "                                       Name                    Street Zipcode  \\\n",
       "3   1 Berlin x Hausverwaltung GmbH + Co. KG  Königin-Luise-Strasse 43   14195   \n",
       "4            1 Berlin x Recon GmbH + Co. KG  Königin-Luise-Strasse 43   14195   \n",
       "5             1 Berlin x Recon Holding GmbH  Königin-Luise-Strasse 43   14195   \n",
       "12               2 + 1 Global Projects GmbH         Chausseetrasse 14   10115   \n",
       "23                             4initia GmbH           Söhtstrasse 6 a   12203   \n",
       "\n",
       "      City   Lat   Lan  \n",
       "3   Berlin  None  None  \n",
       "4   Berlin  None  None  \n",
       "5   Berlin  None  None  \n",
       "12  Berlin  None  None  \n",
       "23  Berlin  None  None  "
      ]
     },
     "execution_count": 295,
     "metadata": {},
     "output_type": "execute_result"
    }
   ],
   "source": [
    "profiles_list = cleaned_profiles[\"profile\"].values.tolist()\n",
    "company_data = pd.DataFrame(profiles_list)[[0,1,2,3,4,5]]\n",
    "company_data.columns= [\"Name\", \"Street\",\"Zipcode\",\"City\",\"Lat\",\"Lan\"]\n",
    "print(\"Shape of data: \",company_data.shape)\n",
    "company_data[company_data.isnull().any(axis=1)].head()"
   ]
  },
  {
   "cell_type": "code",
   "execution_count": 300,
   "metadata": {},
   "outputs": [
    {
     "data": {
      "text/html": [
       "<div>\n",
       "<style scoped>\n",
       "    .dataframe tbody tr th:only-of-type {\n",
       "        vertical-align: middle;\n",
       "    }\n",
       "\n",
       "    .dataframe tbody tr th {\n",
       "        vertical-align: top;\n",
       "    }\n",
       "\n",
       "    .dataframe thead th {\n",
       "        text-align: right;\n",
       "    }\n",
       "</style>\n",
       "<table border=\"1\" class=\"dataframe\">\n",
       "  <thead>\n",
       "    <tr style=\"text-align: right;\">\n",
       "      <th></th>\n",
       "      <th>Name</th>\n",
       "      <th>Street</th>\n",
       "      <th>Zipcode</th>\n",
       "      <th>City</th>\n",
       "      <th>Lat</th>\n",
       "      <th>Lan</th>\n",
       "    </tr>\n",
       "  </thead>\n",
       "  <tbody>\n",
       "    <tr>\n",
       "      <th>0</th>\n",
       "      <td>(KA) Kraft Automobile GmbH</td>\n",
       "      <td>Wexstrasse 15</td>\n",
       "      <td>10715</td>\n",
       "      <td>Berlin</td>\n",
       "      <td>52.479</td>\n",
       "      <td>13.336</td>\n",
       "    </tr>\n",
       "    <tr>\n",
       "      <th>1</th>\n",
       "      <td>(know:bodies) gesellschaft für integrierte kom...</td>\n",
       "      <td>Sophie-Charlotten-Strasse 103</td>\n",
       "      <td>14059</td>\n",
       "      <td>Berlin</td>\n",
       "      <td>52.518</td>\n",
       "      <td>13.287</td>\n",
       "    </tr>\n",
       "    <tr>\n",
       "      <th>2</th>\n",
       "      <td>07schanksysteme gmbh</td>\n",
       "      <td>Sprengelstrasse 15</td>\n",
       "      <td>13353</td>\n",
       "      <td>Berlin</td>\n",
       "      <td>52.542</td>\n",
       "      <td>13.355</td>\n",
       "    </tr>\n",
       "    <tr>\n",
       "      <th>3</th>\n",
       "      <td>1-2-3 Gebäudemanagement Berlin GmbH</td>\n",
       "      <td>Fredericiastrasse 28</td>\n",
       "      <td>14059</td>\n",
       "      <td>Berlin</td>\n",
       "      <td>52.511</td>\n",
       "      <td>13.282</td>\n",
       "    </tr>\n",
       "    <tr>\n",
       "      <th>4</th>\n",
       "      <td>1000eyes GmbH</td>\n",
       "      <td>Joachimstaler Strasse 12</td>\n",
       "      <td>10719</td>\n",
       "      <td>Berlin</td>\n",
       "      <td>52.503</td>\n",
       "      <td>13.331</td>\n",
       "    </tr>\n",
       "  </tbody>\n",
       "</table>\n",
       "</div>"
      ],
      "text/plain": [
       "                                                Name  \\\n",
       "0                         (KA) Kraft Automobile GmbH   \n",
       "1  (know:bodies) gesellschaft für integrierte kom...   \n",
       "2                               07schanksysteme gmbh   \n",
       "3                1-2-3 Gebäudemanagement Berlin GmbH   \n",
       "4                                      1000eyes GmbH   \n",
       "\n",
       "                          Street Zipcode    City     Lat     Lan  \n",
       "0                  Wexstrasse 15   10715  Berlin  52.479  13.336  \n",
       "1  Sophie-Charlotten-Strasse 103   14059  Berlin  52.518  13.287  \n",
       "2             Sprengelstrasse 15   13353  Berlin  52.542  13.355  \n",
       "3           Fredericiastrasse 28   14059  Berlin  52.511  13.282  \n",
       "4       Joachimstaler Strasse 12   10719  Berlin  52.503  13.331  "
      ]
     },
     "execution_count": 300,
     "metadata": {},
     "output_type": "execute_result"
    }
   ],
   "source": [
    "# droping data which does't have Latitude an longitude\n",
    "company_data = company_data.dropna()\n",
    "company_data = company_data.reset_index(drop=True)\n",
    "company_data.head()"
   ]
  },
  {
   "cell_type": "code",
   "execution_count": null,
   "metadata": {},
   "outputs": [],
   "source": []
  }
 ],
 "metadata": {
  "kernelspec": {
   "display_name": "Python 3",
   "language": "python",
   "name": "python3"
  },
  "language_info": {
   "codemirror_mode": {
    "name": "ipython",
    "version": 3
   },
   "file_extension": ".py",
   "mimetype": "text/x-python",
   "name": "python",
   "nbconvert_exporter": "python",
   "pygments_lexer": "ipython3",
   "version": "3.7.5"
  }
 },
 "nbformat": 4,
 "nbformat_minor": 2
}
